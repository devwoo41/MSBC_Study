{
 "cells": [
  {
   "cell_type": "code",
   "execution_count": 24,
   "id": "be2efc95",
   "metadata": {},
   "outputs": [],
   "source": [
    "import numpy as np\n",
    "import matplotlib.pyplot as plt\n",
    "import os\n",
    "import tensorflow as tf"
   ]
  },
  {
   "cell_type": "code",
   "execution_count": 25,
   "id": "26d727a8",
   "metadata": {},
   "outputs": [],
   "source": [
    "from keras.datasets import fashion_mnist\n",
    "from keras import Sequential, Input\n",
    "from keras.layers import Dense\n",
    "from keras.callbacks import ModelCheckpoint,EarlyStopping\n",
    "from tensorflow.keras.utils import to_categorical"
   ]
  },
  {
   "cell_type": "code",
   "execution_count": 26,
   "id": "67da2d20",
   "metadata": {},
   "outputs": [],
   "source": [
    "seed=42\n",
    "np.random.seed(seed)\n",
    "tf.random.set_seed(seed)"
   ]
  },
  {
   "cell_type": "code",
   "execution_count": 27,
   "id": "97f4fb94",
   "metadata": {},
   "outputs": [],
   "source": [
    "(X_train, Y_class_train), (X_test, Y_class_test) = fashion_mnist.load_data()"
   ]
  },
  {
   "cell_type": "code",
   "execution_count": 28,
   "id": "0c96f7eb",
   "metadata": {},
   "outputs": [
    {
     "name": "stdout",
     "output_type": "stream",
     "text": [
      "Study-Set Image : 60000\n",
      "Test-Set Image : 10000\n"
     ]
    }
   ],
   "source": [
    "print(\"Study-Set Image : %d\"%(X_train.shape[0])) #60000\n",
    "print(\"Test-Set Image : %d\"%(X_test.shape[0])) #10000"
   ]
  },
  {
   "cell_type": "code",
   "execution_count": 29,
   "id": "bfb5271b",
   "metadata": {},
   "outputs": [
    {
     "data": {
      "image/png": "[encoded data removed]",
      "text/plain": [
       "<Figure size 640x480 with 1 Axes>"
      ]
     },
     "metadata": {},
     "output_type": "display_data"
    }
   ],
   "source": [
    "plt.imshow(X_train[0],cmap='Greys')\n",
    "plt.show()"
   ]
  },
  {
   "cell_type": "code",
   "execution_count": 30,
   "id": "4d64068b",
   "metadata": {},
   "outputs": [
    {
     "name": "stdout",
     "output_type": "stream",
     "text": [
      "0\t0\t0\t0\t0\t0\t0\t0\t0\t0\t0\t0\t0\t0\t0\t0\t0\t0\t0\t0\t0\t0\t0\t0\t0\t0\t0\t0\t\n",
      "0\t0\t0\t0\t0\t0\t0\t0\t0\t0\t0\t0\t0\t0\t0\t0\t0\t0\t0\t0\t0\t0\t0\t0\t0\t0\t0\t0\t\n",
      "0\t0\t0\t0\t0\t0\t0\t0\t0\t0\t0\t0\t0\t0\t0\t0\t0\t0\t0\t0\t0\t0\t0\t0\t0\t0\t0\t0\t\n",
      "0\t0\t0\t0\t0\t0\t0\t0\t0\t0\t0\t0\t1\t0\t0\t13\t73\t0\t0\t1\t4\t0\t0\t0\t0\t1\t1\t0\t\n",
      "0\t0\t0\t0\t0\t0\t0\t0\t0\t0\t0\t0\t3\t0\t36\t136\t127\t62\t54\t0\t0\t0\t1\t3\t4\t0\t0\t3\t\n",
      "0\t0\t0\t0\t0\t0\t0\t0\t0\t0\t0\t0\t6\t0\t102\t204\t176\t134\t144\t123\t23\t0\t0\t0\t0\t12\t10\t0\t\n",
      "0\t0\t0\t0\t0\t0\t0\t0\t0\t0\t0\t0\t0\t0\t155\t236\t207\t178\t107\t156\t161\t109\t64\t23\t77\t130\t72\t15\t\n",
      "0\t0\t0\t0\t0\t0\t0\t0\t0\t0\t0\t1\t0\t69\t207\t223\t218\t216\t216\t163\t127\t121\t122\t146\t141\t88\t172\t66\t\n",
      "0\t0\t0\t0\t0\t0\t0\t0\t0\t1\t1\t1\t0\t200\t232\t232\t233\t229\t223\t223\t215\t213\t164\t127\t123\t196\t229\t0\t\n",
      "0\t0\t0\t0\t0\t0\t0\t0\t0\t0\t0\t0\t0\t183\t225\t216\t223\t228\t235\t227\t224\t222\t224\t221\t223\t245\t173\t0\t\n",
      "0\t0\t0\t0\t0\t0\t0\t0\t0\t0\t0\t0\t0\t193\t228\t218\t213\t198\t180\t212\t210\t211\t213\t223\t220\t243\t202\t0\t\n",
      "0\t0\t0\t0\t0\t0\t0\t0\t0\t1\t3\t0\t12\t219\t220\t212\t218\t192\t169\t227\t208\t218\t224\t212\t226\t197\t209\t52\t\n",
      "0\t0\t0\t0\t0\t0\t0\t0\t0\t0\t6\t0\t99\t244\t222\t220\t218\t203\t198\t221\t215\t213\t222\t220\t245\t119\t167\t56\t\n",
      "0\t0\t0\t0\t0\t0\t0\t0\t0\t4\t0\t0\t55\t236\t228\t230\t228\t240\t232\t213\t218\t223\t234\t217\t217\t209\t92\t0\t\n",
      "0\t0\t1\t4\t6\t7\t2\t0\t0\t0\t0\t0\t237\t226\t217\t223\t222\t219\t222\t221\t216\t223\t229\t215\t218\t255\t77\t0\t\n",
      "0\t3\t0\t0\t0\t0\t0\t0\t0\t62\t145\t204\t228\t207\t213\t221\t218\t208\t211\t218\t224\t223\t219\t215\t224\t244\t159\t0\t\n",
      "0\t0\t0\t0\t18\t44\t82\t107\t189\t228\t220\t222\t217\t226\t200\t205\t211\t230\t224\t234\t176\t188\t250\t248\t233\t238\t215\t0\t\n",
      "0\t57\t187\t208\t224\t221\t224\t208\t204\t214\t208\t209\t200\t159\t245\t193\t206\t223\t255\t255\t221\t234\t221\t211\t220\t232\t246\t0\t\n",
      "3\t202\t228\t224\t221\t211\t211\t214\t205\t205\t205\t220\t240\t80\t150\t255\t229\t221\t188\t154\t191\t210\t204\t209\t222\t228\t225\t0\t\n",
      "98\t233\t198\t210\t222\t229\t229\t234\t249\t220\t194\t215\t217\t241\t65\t73\t106\t117\t168\t219\t221\t215\t217\t223\t223\t224\t229\t29\t\n",
      "75\t204\t212\t204\t193\t205\t211\t225\t216\t185\t197\t206\t198\t213\t240\t195\t227\t245\t239\t223\t218\t212\t209\t222\t220\t221\t230\t67\t\n",
      "48\t203\t183\t194\t213\t197\t185\t190\t194\t192\t202\t214\t219\t221\t220\t236\t225\t216\t199\t206\t186\t181\t177\t172\t181\t205\t206\t115\t\n",
      "0\t122\t219\t193\t179\t171\t183\t196\t204\t210\t213\t207\t211\t210\t200\t196\t194\t191\t195\t191\t198\t192\t176\t156\t167\t177\t210\t92\t\n",
      "0\t0\t74\t189\t212\t191\t175\t172\t175\t181\t185\t188\t189\t188\t193\t198\t204\t209\t210\t210\t211\t188\t188\t194\t192\t216\t170\t0\t\n",
      "2\t0\t0\t0\t66\t200\t222\t237\t239\t242\t246\t243\t244\t221\t220\t193\t191\t179\t182\t182\t181\t176\t166\t168\t99\t58\t0\t0\t\n",
      "0\t0\t0\t0\t0\t0\t0\t40\t61\t44\t72\t41\t35\t0\t0\t0\t0\t0\t0\t0\t0\t0\t0\t0\t0\t0\t0\t0\t\n",
      "0\t0\t0\t0\t0\t0\t0\t0\t0\t0\t0\t0\t0\t0\t0\t0\t0\t0\t0\t0\t0\t0\t0\t0\t0\t0\t0\t0\t\n",
      "0\t0\t0\t0\t0\t0\t0\t0\t0\t0\t0\t0\t0\t0\t0\t0\t0\t0\t0\t0\t0\t0\t0\t0\t0\t0\t0\t0\t\n"
     ]
    }
   ],
   "source": [
    "import sys\n",
    "for x in X_train[0]:\n",
    "    for i in x:\n",
    "        sys.stdout.write(\"%d\\t\"%i)\n",
    "    sys.stdout.write('\\n')"
   ]
  },
  {
   "cell_type": "code",
   "execution_count": 31,
   "id": "f389d5a7",
   "metadata": {},
   "outputs": [],
   "source": [
    "X_train=X_train.reshape(X_train.shape[0],784)\n",
    "X_train=X_train.astype('float64')\n",
    "X_train=X_train/255\n",
    "X_test=X_test.reshape(X_test.shape[0],\n",
    "                      784).astype('float64')/255"
   ]
  },
  {
   "cell_type": "code",
   "execution_count": 32,
   "id": "164b1709",
   "metadata": {},
   "outputs": [
    {
     "name": "stdout",
     "output_type": "stream",
     "text": [
      "class:9\n"
     ]
    }
   ],
   "source": [
    "print(\"class:%d\"%(Y_class_train[0]))"
   ]
  },
  {
   "cell_type": "code",
   "execution_count": 33,
   "id": "da479a79",
   "metadata": {},
   "outputs": [
    {
     "name": "stdout",
     "output_type": "stream",
     "text": [
      "[0. 0. 0. 0. 0. 0. 0. 0. 0. 1.]\n"
     ]
    }
   ],
   "source": [
    "Y_train=to_categorical(Y_class_train,10)\n",
    "Y_test=to_categorical(Y_class_test,10)\n",
    "print(Y_train[0])"
   ]
  },
  {
   "cell_type": "markdown",
   "id": "0be8ddd5",
   "metadata": {},
   "source": [
    "### Relu + Softmax "
   ]
  },
  {
   "cell_type": "code",
   "execution_count": 36,
   "id": "57c68fcc",
   "metadata": {},
   "outputs": [],
   "source": [
    "model1=Sequential()\n",
    "model1.add(Input(shape=(784,)))\n",
    "model1.add(Dense(512,activation='relu'))\n",
    "model1.add(Dense(10,activation='softmax'))"
   ]
  },
  {
   "cell_type": "code",
   "execution_count": 37,
   "id": "e32f5f4a",
   "metadata": {},
   "outputs": [],
   "source": [
    "model1.compile(loss='categorical_crossentropy',\n",
    "              optimizer='adam',metrics=['accuracy'])"
   ]
  },
  {
   "cell_type": "code",
   "execution_count": 39,
   "id": "86ab5522",
   "metadata": {},
   "outputs": [],
   "source": [
    "MODEL1_DIR='./model1/'\n",
    "if not os.path.exists(MODEL1_DIR):\n",
    "    os.mkdir(MODEL1_DIR)\n",
    "\n",
    "modelpath=\"./model1/{epoch:02d}-{val_loss:.4f}.keras\"\n",
    "checkpointer=ModelCheckpoint(filepath=modelpath,\n",
    "                             monitor='val_loss',verbose=1,save_best_only=True)\n",
    "early__stopping_callback=EarlyStopping(monitor='val_loss',\n",
    "                                       patience=10)"
   ]
  },
  {
   "cell_type": "code",
   "execution_count": 41,
   "id": "441c313d",
   "metadata": {},
   "outputs": [
    {
     "name": "stdout",
     "output_type": "stream",
     "text": [
      "\n",
      "Epoch 1: val_loss did not improve from 0.34719\n",
      "\n",
      "Epoch 2: val_loss did not improve from 0.34719\n",
      "\n",
      "Epoch 3: val_loss did not improve from 0.34719\n",
      "\n",
      "Epoch 4: val_loss did not improve from 0.34719\n",
      "\n",
      "Epoch 5: val_loss did not improve from 0.34719\n",
      "\n",
      "Epoch 6: val_loss did not improve from 0.34719\n",
      "\n",
      "Epoch 7: val_loss did not improve from 0.34719\n",
      "\n",
      "Epoch 8: val_loss did not improve from 0.34719\n",
      "\n",
      "Epoch 9: val_loss did not improve from 0.34719\n",
      "\n",
      "Epoch 10: val_loss did not improve from 0.34719\n"
     ]
    }
   ],
   "source": [
    "history1=model1.fit(X_train,Y_train,validation_data=(X_test,Y_test),\n",
    "                    epochs=30,batch_size=200,verbose=0,\n",
    "                    callbacks=[early__stopping_callback,checkpointer])"
   ]
  },
  {
   "cell_type": "markdown",
   "id": "a87da01d",
   "metadata": {},
   "source": [
    "### 하이퍼 파라미터 조정"
   ]
  },
  {
   "cell_type": "code",
   "execution_count": 55,
   "id": "2d668f7d",
   "metadata": {},
   "outputs": [
    {
     "name": "stdout",
     "output_type": "stream",
     "text": [
      "\n",
      "Epoch 1: val_loss improved from None to 0.42010, saving model to ./model2/01-0.4201.keras\n",
      "\n",
      "Epoch 2: val_loss improved from 0.42010 to 0.38315, saving model to ./model2/02-0.3832.keras\n",
      "\n",
      "Epoch 2: val_loss improved from 0.42010 to 0.38315, saving model to ./model2/02-0.3832.keras\n",
      "\n",
      "Epoch 3: val_loss improved from 0.38315 to 0.36813, saving model to ./model2/03-0.3681.keras\n",
      "\n",
      "Epoch 3: val_loss improved from 0.38315 to 0.36813, saving model to ./model2/03-0.3681.keras\n",
      "\n",
      "Epoch 4: val_loss improved from 0.36813 to 0.36036, saving model to ./model2/04-0.3604.keras\n",
      "\n",
      "Epoch 4: val_loss improved from 0.36813 to 0.36036, saving model to ./model2/04-0.3604.keras\n",
      "\n",
      "Epoch 5: val_loss improved from 0.36036 to 0.35166, saving model to ./model2/05-0.3517.keras\n",
      "\n",
      "Epoch 5: val_loss improved from 0.36036 to 0.35166, saving model to ./model2/05-0.3517.keras\n",
      "\n",
      "Epoch 6: val_loss improved from 0.35166 to 0.35125, saving model to ./model2/06-0.3513.keras\n",
      "\n",
      "Epoch 6: val_loss improved from 0.35166 to 0.35125, saving model to ./model2/06-0.3513.keras\n",
      "\n",
      "Epoch 7: val_loss improved from 0.35125 to 0.34748, saving model to ./model2/07-0.3475.keras\n",
      "\n",
      "Epoch 7: val_loss improved from 0.35125 to 0.34748, saving model to ./model2/07-0.3475.keras\n",
      "\n",
      "Epoch 8: val_loss improved from 0.34748 to 0.34435, saving model to ./model2/08-0.3444.keras\n",
      "\n",
      "Epoch 8: val_loss improved from 0.34748 to 0.34435, saving model to ./model2/08-0.3444.keras\n",
      "\n",
      "Epoch 9: val_loss did not improve from 0.34435\n",
      "\n",
      "Epoch 9: val_loss did not improve from 0.34435\n",
      "\n",
      "Epoch 10: val_loss did not improve from 0.34435\n",
      "\n",
      "Epoch 10: val_loss did not improve from 0.34435\n",
      "\n",
      "Epoch 11: val_loss did not improve from 0.34435\n",
      "\n",
      "Epoch 11: val_loss did not improve from 0.34435\n",
      "\n",
      "Epoch 12: val_loss did not improve from 0.34435\n",
      "\n",
      "Epoch 12: val_loss did not improve from 0.34435\n",
      "\n",
      "Epoch 13: val_loss did not improve from 0.34435\n",
      "\n",
      "Epoch 13: val_loss did not improve from 0.34435\n",
      "\n",
      "Epoch 14: val_loss did not improve from 0.34435\n",
      "\n",
      "Epoch 14: val_loss did not improve from 0.34435\n",
      "\n",
      "Epoch 15: val_loss did not improve from 0.34435\n",
      "\n",
      "Epoch 15: val_loss did not improve from 0.34435\n",
      "\n",
      "Epoch 16: val_loss did not improve from 0.34435\n",
      "\n",
      "Epoch 16: val_loss did not improve from 0.34435\n",
      "\n",
      "Epoch 17: val_loss did not improve from 0.34435\n",
      "\n",
      "Epoch 17: val_loss did not improve from 0.34435\n",
      "\n",
      "Epoch 18: val_loss did not improve from 0.34435\n",
      "\n",
      "Epoch 18: val_loss did not improve from 0.34435\n"
     ]
    }
   ],
   "source": [
    "model2=Sequential()\n",
    "model2.add(Input(shape=(784,)))\n",
    "model2.add(Dense(512,activation='relu'))\n",
    "model2.add(Dense(10,activation='softmax'))\n",
    "opt = tf.keras.optimizers.Adam(learning_rate=1e-3, amsgrad=True, clipnorm=1.0)\n",
    "model2.compile(loss=\"categorical_crossentropy\",\n",
    "              optimizer=opt,metrics=['accuracy'])\n",
    "\n",
    "MODEL2_DIR='./model2/'\n",
    "if not os.path.exists(MODEL2_DIR):\n",
    "    os.mkdir(MODEL2_DIR)\n",
    "\n",
    "modelpath=\"./model2/{epoch:02d}-{val_loss:.4f}.keras\"\n",
    "checkpointer=ModelCheckpoint(filepath=modelpath,\n",
    "                             monitor='val_loss',verbose=1,save_best_only=True)\n",
    "early__stopping_callback=EarlyStopping(monitor='val_loss',\n",
    "                                       patience=10)\n",
    "\n",
    "history2=model2.fit(X_train,Y_train,validation_data=(X_test,Y_test),\n",
    "                    epochs=30,batch_size=100,verbose=0,\n",
    "                    callbacks=[early__stopping_callback,checkpointer])"
   ]
  },
  {
   "cell_type": "code",
   "execution_count": 57,
   "id": "69c386c8",
   "metadata": {},
   "outputs": [
    {
     "name": "stdout",
     "output_type": "stream",
     "text": [
      "\u001b[1m313/313\u001b[0m \u001b[32m━━━━━━━━━━━━━━━━━━━━\u001b[0m\u001b[37m\u001b[0m \u001b[1m1s\u001b[0m 1ms/step - accuracy: 0.8870 - loss: 0.3867\n",
      "\u001b[1m313/313\u001b[0m \u001b[32m━━━━━━━━━━━━━━━━━━━━\u001b[0m\u001b[37m\u001b[0m \u001b[1m1s\u001b[0m 1ms/step - accuracy: 0.8870 - loss: 0.3867\n",
      "\n",
      " Test Accuracy: 0.8870\n",
      "\n",
      " Test Accuracy: 0.8870\n"
     ]
    }
   ],
   "source": [
    "print('\\n Test Accuracy: %.4f'%(model1.evaluate(X_test,Y_test)[1]))"
   ]
  },
  {
   "cell_type": "code",
   "execution_count": 58,
   "id": "9ae21c82",
   "metadata": {},
   "outputs": [
    {
     "name": "stdout",
     "output_type": "stream",
     "text": [
      "\u001b[1m313/313\u001b[0m \u001b[32m━━━━━━━━━━━━━━━━━━━━\u001b[0m\u001b[37m\u001b[0m \u001b[1m1s\u001b[0m 1ms/step - accuracy: 0.8754 - loss: 0.3967\n",
      "\n",
      " Test Accuracy: 0.8754\n",
      "\u001b[1m313/313\u001b[0m \u001b[32m━━━━━━━━━━━━━━━━━━━━\u001b[0m\u001b[37m\u001b[0m \u001b[1m1s\u001b[0m 1ms/step - accuracy: 0.8754 - loss: 0.3967\n",
      "\n",
      " Test Accuracy: 0.8754\n"
     ]
    }
   ],
   "source": [
    "print('\\n Test Accuracy: %.4f'%(model2.evaluate(X_test,Y_test)[1]))"
   ]
  },
  {
   "cell_type": "code",
   "execution_count": 61,
   "id": "a6aa226a",
   "metadata": {},
   "outputs": [
    {
     "data": {
      "image/png": "[encoded data removed]",
      "text/plain": [
       "<Figure size 640x480 with 1 Axes>"
      ]
     },
     "metadata": {},
     "output_type": "display_data"
    }
   ],
   "source": [
    "y_vloss=history1.history['val_loss']\n",
    "y_loss=history1.history['loss']\n",
    "x_len=np.arange(len(y_loss))\n",
    "plt.plot(x_len,y_vloss,marker='.',c='red',label='Testset_loss')\n",
    "plt.plot(x_len,y_loss,marker='.',c='blue',label='Studyset_loss')\n",
    "plt.legend(loc='upper right')\n",
    "plt.axis([0,20,0,0.5])\n",
    "plt.grid()\n",
    "plt.xlabel('epoch')\n",
    "plt.ylabel('loss')\n",
    "plt.show()"
   ]
  },
  {
   "cell_type": "code",
   "execution_count": 62,
   "id": "317163dc",
   "metadata": {},
   "outputs": [
    {
     "data": {
      "image/png": "[encoded data removed]",
      "text/plain": [
       "<Figure size 640x480 with 1 Axes>"
      ]
     },
     "metadata": {},
     "output_type": "display_data"
    }
   ],
   "source": [
    "y_vloss=history2.history['val_loss']\n",
    "y_loss=history2.history['loss']\n",
    "x_len=np.arange(len(y_loss))\n",
    "plt.plot(x_len,y_vloss,marker='.',c='red',label='Testset_loss')\n",
    "plt.plot(x_len,y_loss,marker='.',c='blue',label='Studyset_loss')\n",
    "plt.legend(loc='upper right')\n",
    "plt.axis([0,20,0,0.5])\n",
    "plt.grid()\n",
    "plt.xlabel('epoch')\n",
    "plt.ylabel('loss')\n",
    "plt.show()"
   ]
  },
  {
   "cell_type": "code",
   "execution_count": 63,
   "id": "4b8e08ce",
   "metadata": {},
   "outputs": [],
   "source": [
    "index=2025\n",
    "image=X_test[index]\n",
    "label=Y_class_test[index]"
   ]
  },
  {
   "cell_type": "code",
   "execution_count": 64,
   "id": "6fac94a1",
   "metadata": {},
   "outputs": [
    {
     "data": {
      "image/png": "[encoded data removed]",
      "text/plain": [
       "<Figure size 640x480 with 1 Axes>"
      ]
     },
     "metadata": {},
     "output_type": "display_data"
    }
   ],
   "source": [
    "plt.imshow(image.reshape(28,28),cmap='gray')\n",
    "plt.title(f\"Actual Label:{label}\")\n",
    "plt.axis('off')\n",
    "plt.show()"
   ]
  },
  {
   "cell_type": "code",
   "execution_count": 65,
   "id": "4afe3f07",
   "metadata": {},
   "outputs": [
    {
     "name": "stdout",
     "output_type": "stream",
     "text": [
      "\u001b[1m1/1\u001b[0m \u001b[32m━━━━━━━━━━━━━━━━━━━━\u001b[0m\u001b[37m\u001b[0m \u001b[1m0s\u001b[0m 43ms/step\n",
      "\u001b[1m1/1\u001b[0m \u001b[32m━━━━━━━━━━━━━━━━━━━━\u001b[0m\u001b[37m\u001b[0m \u001b[1m0s\u001b[0m 43ms/step\n",
      "Predicted Label: 7\n",
      "Predicted Label: 7\n"
     ]
    }
   ],
   "source": [
    "prediction=model1.predict(image.reshape(1,784))\n",
    "predicted_label=prediction.argmax()\n",
    "print(\"Predicted Label:\",predicted_label)"
   ]
  },
  {
   "cell_type": "code",
   "execution_count": 67,
   "id": "27db35a9",
   "metadata": {},
   "outputs": [
    {
     "name": "stdout",
     "output_type": "stream",
     "text": [
      "\u001b[1m1/1\u001b[0m \u001b[32m━━━━━━━━━━━━━━━━━━━━\u001b[0m\u001b[37m\u001b[0m \u001b[1m0s\u001b[0m 30ms/step\n",
      "\u001b[1m1/1\u001b[0m \u001b[32m━━━━━━━━━━━━━━━━━━━━\u001b[0m\u001b[37m\u001b[0m \u001b[1m0s\u001b[0m 30ms/step\n",
      "Predicted Label: 7\n",
      "Predicted Label: 7\n"
     ]
    }
   ],
   "source": [
    "prediction=model2.predict(image.reshape(1,784))\n",
    "predicted_label=prediction.argmax()\n",
    "print(\"Predicted Label:\",predicted_label)"
   ]
  }
 ],
 "metadata": {
  "kernelspec": {
   "display_name": "MSHCK",
   "language": "python",
   "name": "python3"
  },
  "language_info": {
   "codemirror_mode": {
    "name": "ipython",
    "version": 3
   },
   "file_extension": ".py",
   "mimetype": "text/x-python",
   "name": "python",
   "nbconvert_exporter": "python",
   "pygments_lexer": "ipython3",
   "version": "3.12.11"
  }
 },
 "nbformat": 4,
 "nbformat_minor": 5
}
