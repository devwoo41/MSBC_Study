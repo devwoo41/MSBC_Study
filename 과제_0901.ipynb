{
 "cells": [
  {
   "cell_type": "code",
   "execution_count": 1,
   "id": "5f6400ea",
   "metadata": {},
   "outputs": [
    {
     "name": "stdout",
     "output_type": "stream",
     "text": [
      "섭씨: 14\n"
     ]
    }
   ],
   "source": [
    "# 화씨 -> 섭씨 변환 (int로 깔끔하게 정수처리)\n",
    "fah=float(input())\n",
    "cel=(fah-32)*(5/9)\n",
    "print(\"섭씨: {}\".format(int(cel))) "
   ]
  },
  {
   "cell_type": "code",
   "execution_count": 4,
   "id": "bfeea939",
   "metadata": {},
   "outputs": [
    {
     "name": "stdout",
     "output_type": "stream",
     "text": [
      "[1] 10% [2] 15% [3] 20%\n",
      "다시 선택하세요\n",
      "tip은 600.0 이고, 최종가격은 7740.0입니다.\n"
     ]
    }
   ],
   "source": [
    "#원가 + VAT + TIP\n",
    "price=int(input(\"원가는? \"))\n",
    "VAT=(price*0.19)\n",
    "print(\"[1] 10% [2] 15% [3] 20%\")\n",
    "while True:\n",
    "    sel=int(input(\"몇 % 내시겠습니까?\"))\n",
    "    if sel==1:\n",
    "        tip=price*0.1\n",
    "        break\n",
    "    elif sel==2:\n",
    "        tip=price*0.15\n",
    "        break\n",
    "    elif sel==3:\n",
    "        tip=price*0.2\n",
    "        break\n",
    "    else:\n",
    "        print(\"다시 선택하세요\")\n",
    "print(\"tip은 {} 이고, 최종가격은 {}입니다.\".format(tip,tip+VAT+price))"
   ]
  }
 ],
 "metadata": {
  "kernelspec": {
   "display_name": "MSHCK",
   "language": "python",
   "name": "python3"
  },
  "language_info": {
   "codemirror_mode": {
    "name": "ipython",
    "version": 3
   },
   "file_extension": ".py",
   "mimetype": "text/x-python",
   "name": "python",
   "nbconvert_exporter": "python",
   "pygments_lexer": "ipython3",
   "version": "3.12.11"
  }
 },
 "nbformat": 4,
 "nbformat_minor": 5
}
